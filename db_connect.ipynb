{
 "cells": [
  {
   "cell_type": "code",
   "execution_count": 1,
   "metadata": {},
   "outputs": [],
   "source": [
    "import yaml\n",
    "import os\n",
    "from datetime import datetime as dt\n",
    "import pandas as pd\n",
    "import numpy as np\n",
    "import boto3\n",
    "from sqlalchemy import create_engine"
   ]
  },
  {
   "cell_type": "code",
   "execution_count": 2,
   "metadata": {},
   "outputs": [],
   "source": [
    "with open('config.yml', 'r') as file:\n",
    "    config = yaml.safe_load(file)"
   ]
  },
  {
   "cell_type": "code",
   "execution_count": 3,
   "metadata": {},
   "outputs": [],
   "source": [
    "# Establish connection to AWS environment\n",
    "aws_creds = config['awsaccount']\n",
    "\n",
    "os.environ[\"AWS_ACCESS_KEY_ID\"] = aws_creds['accesskey']\n",
    "os.environ[\"AWS_SECRET_ACCESS_KEY\"] = aws_creds['secretkey']\n",
    "os.environ[\"AWS_REGION\"] = \"us-east-1\"\n",
    "\n",
    "s3 = boto3.resource('s3')\n",
    "client = boto3.client('s3')\n",
    "\n",
    "bucket_name = \"stocks-daily-ohlc\"\n",
    "bucket = s3.Bucket(bucket_name)"
   ]
  },
  {
   "cell_type": "code",
   "execution_count": 4,
   "metadata": {},
   "outputs": [
    {
     "name": "stdout",
     "output_type": "stream",
     "text": [
      "AAPL.csv\n",
      "MSFT.csv\n"
     ]
    }
   ],
   "source": [
    "# Get list of bucket objects\n",
    "for obj in bucket.objects.all():\n",
    "    print(obj.key)"
   ]
  },
  {
   "cell_type": "code",
   "execution_count": 5,
   "metadata": {},
   "outputs": [
    {
     "data": {
      "text/html": [
       "<div>\n",
       "<style scoped>\n",
       "    .dataframe tbody tr th:only-of-type {\n",
       "        vertical-align: middle;\n",
       "    }\n",
       "\n",
       "    .dataframe tbody tr th {\n",
       "        vertical-align: top;\n",
       "    }\n",
       "\n",
       "    .dataframe thead th {\n",
       "        text-align: right;\n",
       "    }\n",
       "</style>\n",
       "<table border=\"1\" class=\"dataframe\">\n",
       "  <thead>\n",
       "    <tr style=\"text-align: right;\">\n",
       "      <th></th>\n",
       "      <th>Key</th>\n",
       "      <th>LastModified</th>\n",
       "      <th>ETag</th>\n",
       "      <th>Size</th>\n",
       "      <th>StorageClass</th>\n",
       "    </tr>\n",
       "  </thead>\n",
       "  <tbody>\n",
       "    <tr>\n",
       "      <th>0</th>\n",
       "      <td>AAPL.csv</td>\n",
       "      <td>2023-09-14 20:34:33+00:00</td>\n",
       "      <td>\"09bc7cb21266b175b453100a5dd6c038\"</td>\n",
       "      <td>5355</td>\n",
       "      <td>STANDARD</td>\n",
       "    </tr>\n",
       "    <tr>\n",
       "      <th>1</th>\n",
       "      <td>MSFT.csv</td>\n",
       "      <td>2023-09-14 18:29:24+00:00</td>\n",
       "      <td>\"6c2ee92b7e80710b88189c114e470979\"</td>\n",
       "      <td>5529</td>\n",
       "      <td>STANDARD</td>\n",
       "    </tr>\n",
       "  </tbody>\n",
       "</table>\n",
       "</div>"
      ],
      "text/plain": [
       "        Key              LastModified                                ETag  \\\n",
       "0  AAPL.csv 2023-09-14 20:34:33+00:00  \"09bc7cb21266b175b453100a5dd6c038\"   \n",
       "1  MSFT.csv 2023-09-14 18:29:24+00:00  \"6c2ee92b7e80710b88189c114e470979\"   \n",
       "\n",
       "   Size StorageClass  \n",
       "0  5355     STANDARD  \n",
       "1  5529     STANDARD  "
      ]
     },
     "execution_count": 5,
     "metadata": {},
     "output_type": "execute_result"
    }
   ],
   "source": [
    "obj_list = pd.DataFrame(client.list_objects_v2(Bucket = bucket_name)['Contents'])\n",
    "obj_list"
   ]
  },
  {
   "cell_type": "code",
   "execution_count": 6,
   "metadata": {},
   "outputs": [
    {
     "data": {
      "text/html": [
       "<div>\n",
       "<style scoped>\n",
       "    .dataframe tbody tr th:only-of-type {\n",
       "        vertical-align: middle;\n",
       "    }\n",
       "\n",
       "    .dataframe tbody tr th {\n",
       "        vertical-align: top;\n",
       "    }\n",
       "\n",
       "    .dataframe thead th {\n",
       "        text-align: right;\n",
       "    }\n",
       "</style>\n",
       "<table border=\"1\" class=\"dataframe\">\n",
       "  <thead>\n",
       "    <tr style=\"text-align: right;\">\n",
       "      <th></th>\n",
       "      <th>ticker</th>\n",
       "      <th>obs_date</th>\n",
       "      <th>open</th>\n",
       "      <th>high</th>\n",
       "      <th>low</th>\n",
       "      <th>close</th>\n",
       "      <th>volume</th>\n",
       "    </tr>\n",
       "  </thead>\n",
       "  <tbody>\n",
       "    <tr>\n",
       "      <th>0</th>\n",
       "      <td>MSFT</td>\n",
       "      <td>2023-09-13</td>\n",
       "      <td>331.310</td>\n",
       "      <td>336.85</td>\n",
       "      <td>331.1700</td>\n",
       "      <td>336.06</td>\n",
       "      <td>16544412</td>\n",
       "    </tr>\n",
       "    <tr>\n",
       "      <th>1</th>\n",
       "      <td>MSFT</td>\n",
       "      <td>2023-09-12</td>\n",
       "      <td>335.815</td>\n",
       "      <td>336.79</td>\n",
       "      <td>331.4800</td>\n",
       "      <td>331.77</td>\n",
       "      <td>17565482</td>\n",
       "    </tr>\n",
       "    <tr>\n",
       "      <th>2</th>\n",
       "      <td>MSFT</td>\n",
       "      <td>2023-09-11</td>\n",
       "      <td>337.240</td>\n",
       "      <td>338.42</td>\n",
       "      <td>335.4300</td>\n",
       "      <td>337.94</td>\n",
       "      <td>16583324</td>\n",
       "    </tr>\n",
       "    <tr>\n",
       "      <th>3</th>\n",
       "      <td>MSFT</td>\n",
       "      <td>2023-09-08</td>\n",
       "      <td>330.090</td>\n",
       "      <td>336.16</td>\n",
       "      <td>329.4600</td>\n",
       "      <td>334.27</td>\n",
       "      <td>19548165</td>\n",
       "    </tr>\n",
       "    <tr>\n",
       "      <th>4</th>\n",
       "      <td>MSFT</td>\n",
       "      <td>2023-09-07</td>\n",
       "      <td>331.290</td>\n",
       "      <td>333.08</td>\n",
       "      <td>329.0300</td>\n",
       "      <td>329.91</td>\n",
       "      <td>18380995</td>\n",
       "    </tr>\n",
       "    <tr>\n",
       "      <th>...</th>\n",
       "      <td>...</td>\n",
       "      <td>...</td>\n",
       "      <td>...</td>\n",
       "      <td>...</td>\n",
       "      <td>...</td>\n",
       "      <td>...</td>\n",
       "      <td>...</td>\n",
       "    </tr>\n",
       "    <tr>\n",
       "      <th>95</th>\n",
       "      <td>MSFT</td>\n",
       "      <td>2023-04-27</td>\n",
       "      <td>295.970</td>\n",
       "      <td>305.20</td>\n",
       "      <td>295.2500</td>\n",
       "      <td>304.83</td>\n",
       "      <td>46462638</td>\n",
       "    </tr>\n",
       "    <tr>\n",
       "      <th>96</th>\n",
       "      <td>MSFT</td>\n",
       "      <td>2023-04-26</td>\n",
       "      <td>296.700</td>\n",
       "      <td>299.57</td>\n",
       "      <td>292.7300</td>\n",
       "      <td>295.37</td>\n",
       "      <td>64481117</td>\n",
       "    </tr>\n",
       "    <tr>\n",
       "      <th>97</th>\n",
       "      <td>MSFT</td>\n",
       "      <td>2023-04-25</td>\n",
       "      <td>279.510</td>\n",
       "      <td>281.60</td>\n",
       "      <td>275.3700</td>\n",
       "      <td>275.42</td>\n",
       "      <td>45772236</td>\n",
       "    </tr>\n",
       "    <tr>\n",
       "      <th>98</th>\n",
       "      <td>MSFT</td>\n",
       "      <td>2023-04-24</td>\n",
       "      <td>282.090</td>\n",
       "      <td>284.95</td>\n",
       "      <td>278.7200</td>\n",
       "      <td>281.77</td>\n",
       "      <td>26611014</td>\n",
       "    </tr>\n",
       "    <tr>\n",
       "      <th>99</th>\n",
       "      <td>MSFT</td>\n",
       "      <td>2023-04-21</td>\n",
       "      <td>285.010</td>\n",
       "      <td>286.27</td>\n",
       "      <td>283.0608</td>\n",
       "      <td>285.76</td>\n",
       "      <td>21676387</td>\n",
       "    </tr>\n",
       "  </tbody>\n",
       "</table>\n",
       "<p>100 rows × 7 columns</p>\n",
       "</div>"
      ],
      "text/plain": [
       "   ticker    obs_date     open    high       low   close    volume\n",
       "0    MSFT  2023-09-13  331.310  336.85  331.1700  336.06  16544412\n",
       "1    MSFT  2023-09-12  335.815  336.79  331.4800  331.77  17565482\n",
       "2    MSFT  2023-09-11  337.240  338.42  335.4300  337.94  16583324\n",
       "3    MSFT  2023-09-08  330.090  336.16  329.4600  334.27  19548165\n",
       "4    MSFT  2023-09-07  331.290  333.08  329.0300  329.91  18380995\n",
       "..    ...         ...      ...     ...       ...     ...       ...\n",
       "95   MSFT  2023-04-27  295.970  305.20  295.2500  304.83  46462638\n",
       "96   MSFT  2023-04-26  296.700  299.57  292.7300  295.37  64481117\n",
       "97   MSFT  2023-04-25  279.510  281.60  275.3700  275.42  45772236\n",
       "98   MSFT  2023-04-24  282.090  284.95  278.7200  281.77  26611014\n",
       "99   MSFT  2023-04-21  285.010  286.27  283.0608  285.76  21676387\n",
       "\n",
       "[100 rows x 7 columns]"
      ]
     },
     "execution_count": 6,
     "metadata": {},
     "output_type": "execute_result"
    }
   ],
   "source": [
    "obj = client.get_object(Bucket = bucket_name, Key = obj_list['Key'][1])\n",
    "df = pd.read_csv(obj['Body'])\n",
    "df"
   ]
  },
  {
   "cell_type": "code",
   "execution_count": 7,
   "metadata": {},
   "outputs": [],
   "source": [
    "db_creds = config['postgres']"
   ]
  },
  {
   "cell_type": "code",
   "execution_count": 8,
   "metadata": {
    "scrolled": true
   },
   "outputs": [],
   "source": [
    "cnx = \"postgresql://{user}:{pw}@{host}:{port}/{database}\".format(\n",
    "        user = db_creds['username'],\n",
    "        pw = db_creds['password'],\n",
    "        host = db_creds['host'],\n",
    "        port = db_creds['port'],\n",
    "        database = db_creds['dbname'])"
   ]
  },
  {
   "cell_type": "code",
   "execution_count": 9,
   "metadata": {},
   "outputs": [
    {
     "data": {
      "text/plain": [
       "<sqlalchemy.engine.base.Connection at 0x7fa0034f8a60>"
      ]
     },
     "execution_count": 9,
     "metadata": {},
     "output_type": "execute_result"
    }
   ],
   "source": [
    "engine = create_engine(cnx)\n",
    "con = engine.connect()\n",
    "con"
   ]
  },
  {
   "cell_type": "code",
   "execution_count": 10,
   "metadata": {},
   "outputs": [
    {
     "data": {
      "text/html": [
       "<div>\n",
       "<style scoped>\n",
       "    .dataframe tbody tr th:only-of-type {\n",
       "        vertical-align: middle;\n",
       "    }\n",
       "\n",
       "    .dataframe tbody tr th {\n",
       "        vertical-align: top;\n",
       "    }\n",
       "\n",
       "    .dataframe thead th {\n",
       "        text-align: right;\n",
       "    }\n",
       "</style>\n",
       "<table border=\"1\" class=\"dataframe\">\n",
       "  <thead>\n",
       "    <tr style=\"text-align: right;\">\n",
       "      <th></th>\n",
       "      <th>ticker</th>\n",
       "      <th>obs_date</th>\n",
       "      <th>open</th>\n",
       "      <th>high</th>\n",
       "      <th>low</th>\n",
       "      <th>close</th>\n",
       "      <th>volume</th>\n",
       "    </tr>\n",
       "  </thead>\n",
       "  <tbody>\n",
       "    <tr>\n",
       "      <th>0</th>\n",
       "      <td>AAPL</td>\n",
       "      <td>2023-09-13</td>\n",
       "      <td>176.47</td>\n",
       "      <td>177.300</td>\n",
       "      <td>173.98</td>\n",
       "      <td>174.21</td>\n",
       "      <td>84090357</td>\n",
       "    </tr>\n",
       "    <tr>\n",
       "      <th>1</th>\n",
       "      <td>AAPL</td>\n",
       "      <td>2023-09-12</td>\n",
       "      <td>179.49</td>\n",
       "      <td>180.130</td>\n",
       "      <td>174.82</td>\n",
       "      <td>176.30</td>\n",
       "      <td>90370192</td>\n",
       "    </tr>\n",
       "    <tr>\n",
       "      <th>2</th>\n",
       "      <td>AAPL</td>\n",
       "      <td>2023-09-11</td>\n",
       "      <td>180.07</td>\n",
       "      <td>180.300</td>\n",
       "      <td>177.34</td>\n",
       "      <td>179.36</td>\n",
       "      <td>58953052</td>\n",
       "    </tr>\n",
       "    <tr>\n",
       "      <th>3</th>\n",
       "      <td>AAPL</td>\n",
       "      <td>2023-09-08</td>\n",
       "      <td>178.35</td>\n",
       "      <td>180.239</td>\n",
       "      <td>177.79</td>\n",
       "      <td>178.18</td>\n",
       "      <td>65602066</td>\n",
       "    </tr>\n",
       "    <tr>\n",
       "      <th>4</th>\n",
       "      <td>AAPL</td>\n",
       "      <td>2023-09-07</td>\n",
       "      <td>175.18</td>\n",
       "      <td>178.210</td>\n",
       "      <td>173.54</td>\n",
       "      <td>177.56</td>\n",
       "      <td>112488803</td>\n",
       "    </tr>\n",
       "  </tbody>\n",
       "</table>\n",
       "</div>"
      ],
      "text/plain": [
       "  ticker    obs_date    open     high     low   close     volume\n",
       "0   AAPL  2023-09-13  176.47  177.300  173.98  174.21   84090357\n",
       "1   AAPL  2023-09-12  179.49  180.130  174.82  176.30   90370192\n",
       "2   AAPL  2023-09-11  180.07  180.300  177.34  179.36   58953052\n",
       "3   AAPL  2023-09-08  178.35  180.239  177.79  178.18   65602066\n",
       "4   AAPL  2023-09-07  175.18  178.210  173.54  177.56  112488803"
      ]
     },
     "execution_count": 10,
     "metadata": {},
     "output_type": "execute_result"
    }
   ],
   "source": [
    "tbl = pd.read_sql(\"select * from stocks\", con)\n",
    "tbl.head()"
   ]
  },
  {
   "cell_type": "code",
   "execution_count": 11,
   "metadata": {},
   "outputs": [
    {
     "data": {
      "text/plain": [
       "(100, 7)"
      ]
     },
     "execution_count": 11,
     "metadata": {},
     "output_type": "execute_result"
    }
   ],
   "source": [
    "tbl.shape"
   ]
  },
  {
   "cell_type": "code",
   "execution_count": 17,
   "metadata": {},
   "outputs": [
    {
     "data": {
      "text/plain": [
       "100"
      ]
     },
     "execution_count": 17,
     "metadata": {},
     "output_type": "execute_result"
    }
   ],
   "source": [
    "len(df)"
   ]
  },
  {
   "cell_type": "code",
   "execution_count": 13,
   "metadata": {},
   "outputs": [],
   "source": [
    "# Append dataframe to table\n",
    "df.to_sql(\"stocks\", con, if_exists = 'append', index = False)"
   ]
  },
  {
   "cell_type": "code",
   "execution_count": 14,
   "metadata": {},
   "outputs": [
    {
     "data": {
      "text/html": [
       "<div>\n",
       "<style scoped>\n",
       "    .dataframe tbody tr th:only-of-type {\n",
       "        vertical-align: middle;\n",
       "    }\n",
       "\n",
       "    .dataframe tbody tr th {\n",
       "        vertical-align: top;\n",
       "    }\n",
       "\n",
       "    .dataframe thead th {\n",
       "        text-align: right;\n",
       "    }\n",
       "</style>\n",
       "<table border=\"1\" class=\"dataframe\">\n",
       "  <thead>\n",
       "    <tr style=\"text-align: right;\">\n",
       "      <th></th>\n",
       "      <th>ticker</th>\n",
       "      <th>obs_date</th>\n",
       "      <th>open</th>\n",
       "      <th>high</th>\n",
       "      <th>low</th>\n",
       "      <th>close</th>\n",
       "      <th>volume</th>\n",
       "    </tr>\n",
       "  </thead>\n",
       "  <tbody>\n",
       "    <tr>\n",
       "      <th>195</th>\n",
       "      <td>MSFT</td>\n",
       "      <td>2023-04-27</td>\n",
       "      <td>295.97</td>\n",
       "      <td>305.20</td>\n",
       "      <td>295.2500</td>\n",
       "      <td>304.83</td>\n",
       "      <td>46462638</td>\n",
       "    </tr>\n",
       "    <tr>\n",
       "      <th>196</th>\n",
       "      <td>MSFT</td>\n",
       "      <td>2023-04-26</td>\n",
       "      <td>296.70</td>\n",
       "      <td>299.57</td>\n",
       "      <td>292.7300</td>\n",
       "      <td>295.37</td>\n",
       "      <td>64481117</td>\n",
       "    </tr>\n",
       "    <tr>\n",
       "      <th>197</th>\n",
       "      <td>MSFT</td>\n",
       "      <td>2023-04-25</td>\n",
       "      <td>279.51</td>\n",
       "      <td>281.60</td>\n",
       "      <td>275.3700</td>\n",
       "      <td>275.42</td>\n",
       "      <td>45772236</td>\n",
       "    </tr>\n",
       "    <tr>\n",
       "      <th>198</th>\n",
       "      <td>MSFT</td>\n",
       "      <td>2023-04-24</td>\n",
       "      <td>282.09</td>\n",
       "      <td>284.95</td>\n",
       "      <td>278.7200</td>\n",
       "      <td>281.77</td>\n",
       "      <td>26611014</td>\n",
       "    </tr>\n",
       "    <tr>\n",
       "      <th>199</th>\n",
       "      <td>MSFT</td>\n",
       "      <td>2023-04-21</td>\n",
       "      <td>285.01</td>\n",
       "      <td>286.27</td>\n",
       "      <td>283.0608</td>\n",
       "      <td>285.76</td>\n",
       "      <td>21676387</td>\n",
       "    </tr>\n",
       "  </tbody>\n",
       "</table>\n",
       "</div>"
      ],
      "text/plain": [
       "    ticker    obs_date    open    high       low   close    volume\n",
       "195   MSFT  2023-04-27  295.97  305.20  295.2500  304.83  46462638\n",
       "196   MSFT  2023-04-26  296.70  299.57  292.7300  295.37  64481117\n",
       "197   MSFT  2023-04-25  279.51  281.60  275.3700  275.42  45772236\n",
       "198   MSFT  2023-04-24  282.09  284.95  278.7200  281.77  26611014\n",
       "199   MSFT  2023-04-21  285.01  286.27  283.0608  285.76  21676387"
      ]
     },
     "execution_count": 14,
     "metadata": {},
     "output_type": "execute_result"
    }
   ],
   "source": [
    "tbl = pd.read_sql(\"select * from stocks\", con)\n",
    "tbl.tail()"
   ]
  },
  {
   "cell_type": "code",
   "execution_count": 15,
   "metadata": {},
   "outputs": [
    {
     "data": {
      "text/plain": [
       "(200, 7)"
      ]
     },
     "execution_count": 15,
     "metadata": {},
     "output_type": "execute_result"
    }
   ],
   "source": [
    "tbl.shape"
   ]
  },
  {
   "cell_type": "code",
   "execution_count": 18,
   "metadata": {},
   "outputs": [],
   "source": [
    "con.close()"
   ]
  }
 ],
 "metadata": {
  "kernelspec": {
   "display_name": "Python 3",
   "language": "python",
   "name": "python3"
  },
  "language_info": {
   "codemirror_mode": {
    "name": "ipython",
    "version": 3
   },
   "file_extension": ".py",
   "mimetype": "text/x-python",
   "name": "python",
   "nbconvert_exporter": "python",
   "pygments_lexer": "ipython3",
   "version": "3.8.5"
  }
 },
 "nbformat": 4,
 "nbformat_minor": 4
}
