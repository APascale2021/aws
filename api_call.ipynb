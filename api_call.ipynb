{
 "cells": [
  {
   "cell_type": "code",
   "execution_count": 1,
   "metadata": {},
   "outputs": [],
   "source": [
    "import requests\n",
    "import yaml\n",
    "import os\n",
    "from datetime import datetime as dt\n",
    "import pandas as pd\n",
    "import numpy as np\n",
    "import boto3\n",
    "from io import StringIO"
   ]
  },
  {
   "cell_type": "code",
   "execution_count": 2,
   "metadata": {},
   "outputs": [],
   "source": [
    "with open('config.yml', 'r') as file:\n",
    "    config = yaml.safe_load(file)\n",
    "\n",
    "api_creds = config['apiserver']\n",
    "ticker = \"AAPL\""
   ]
  },
  {
   "cell_type": "code",
   "execution_count": 3,
   "metadata": {},
   "outputs": [],
   "source": [
    "# Establish API call parameters\n",
    "url = api_creds['requesturl']\n",
    "\n",
    "headers = {\"X-RapidAPI-Key\": api_creds['apikey'],\n",
    "              \"X-RapidAPI-Host\": api_creds['host']}\n",
    "\n",
    "params = {\"function\": \"TIME_SERIES_DAILY\",\n",
    "                \"symbol\": ticker,\n",
    "                \"outputsize\": \"compact\",\n",
    "                \"datatype\": \"json\"}"
   ]
  },
  {
   "cell_type": "code",
   "execution_count": 4,
   "metadata": {},
   "outputs": [],
   "source": [
    "# GET request\n",
    "resp = requests.get(url, headers=headers, params=params)"
   ]
  },
  {
   "cell_type": "code",
   "execution_count": 5,
   "metadata": {},
   "outputs": [
    {
     "data": {
      "text/plain": [
       "200"
      ]
     },
     "execution_count": 5,
     "metadata": {},
     "output_type": "execute_result"
    }
   ],
   "source": [
    "resp.status_code"
   ]
  },
  {
   "cell_type": "code",
   "execution_count": 6,
   "metadata": {},
   "outputs": [
    {
     "data": {
      "text/plain": [
       "'application/json'"
      ]
     },
     "execution_count": 6,
     "metadata": {},
     "output_type": "execute_result"
    }
   ],
   "source": [
    "resp.headers['content-type']"
   ]
  },
  {
   "cell_type": "code",
   "execution_count": 7,
   "metadata": {},
   "outputs": [],
   "source": [
    "# convert response to JSON\n",
    "content = resp.json()"
   ]
  },
  {
   "cell_type": "code",
   "execution_count": 8,
   "metadata": {},
   "outputs": [
    {
     "name": "stdout",
     "output_type": "stream",
     "text": [
      "AAPL\n",
      "2023-09-14\n"
     ]
    }
   ],
   "source": [
    "# extract metadata\n",
    "symbol = content['Meta Data']['2. Symbol']\n",
    "last_updated = content['Meta Data']['3. Last Refreshed']\n",
    "print(symbol)\n",
    "print(last_updated)"
   ]
  },
  {
   "cell_type": "code",
   "execution_count": 9,
   "metadata": {},
   "outputs": [],
   "source": [
    "# get JSON body content\n",
    "data = content['Time Series (Daily)']"
   ]
  },
  {
   "cell_type": "code",
   "execution_count": 10,
   "metadata": {},
   "outputs": [
    {
     "data": {
      "text/html": [
       "<div>\n",
       "<style scoped>\n",
       "    .dataframe tbody tr th:only-of-type {\n",
       "        vertical-align: middle;\n",
       "    }\n",
       "\n",
       "    .dataframe tbody tr th {\n",
       "        vertical-align: top;\n",
       "    }\n",
       "\n",
       "    .dataframe thead th {\n",
       "        text-align: right;\n",
       "    }\n",
       "</style>\n",
       "<table border=\"1\" class=\"dataframe\">\n",
       "  <thead>\n",
       "    <tr style=\"text-align: right;\">\n",
       "      <th></th>\n",
       "      <th>1. open</th>\n",
       "      <th>2. high</th>\n",
       "      <th>3. low</th>\n",
       "      <th>4. close</th>\n",
       "      <th>5. volume</th>\n",
       "    </tr>\n",
       "  </thead>\n",
       "  <tbody>\n",
       "    <tr>\n",
       "      <th>2023-09-14</th>\n",
       "      <td>173.9700</td>\n",
       "      <td>176.1000</td>\n",
       "      <td>173.5800</td>\n",
       "      <td>175.7400</td>\n",
       "      <td>59639771</td>\n",
       "    </tr>\n",
       "    <tr>\n",
       "      <th>2023-09-13</th>\n",
       "      <td>176.5100</td>\n",
       "      <td>177.3000</td>\n",
       "      <td>173.9800</td>\n",
       "      <td>174.2100</td>\n",
       "      <td>84267928</td>\n",
       "    </tr>\n",
       "    <tr>\n",
       "      <th>2023-09-12</th>\n",
       "      <td>179.4900</td>\n",
       "      <td>180.1300</td>\n",
       "      <td>174.8200</td>\n",
       "      <td>176.3000</td>\n",
       "      <td>90370192</td>\n",
       "    </tr>\n",
       "    <tr>\n",
       "      <th>2023-09-11</th>\n",
       "      <td>180.0700</td>\n",
       "      <td>180.3000</td>\n",
       "      <td>177.3400</td>\n",
       "      <td>179.3600</td>\n",
       "      <td>58953052</td>\n",
       "    </tr>\n",
       "    <tr>\n",
       "      <th>2023-09-08</th>\n",
       "      <td>178.3500</td>\n",
       "      <td>180.2390</td>\n",
       "      <td>177.7900</td>\n",
       "      <td>178.1800</td>\n",
       "      <td>65602066</td>\n",
       "    </tr>\n",
       "  </tbody>\n",
       "</table>\n",
       "</div>"
      ],
      "text/plain": [
       "             1. open   2. high    3. low  4. close 5. volume\n",
       "2023-09-14  173.9700  176.1000  173.5800  175.7400  59639771\n",
       "2023-09-13  176.5100  177.3000  173.9800  174.2100  84267928\n",
       "2023-09-12  179.4900  180.1300  174.8200  176.3000  90370192\n",
       "2023-09-11  180.0700  180.3000  177.3400  179.3600  58953052\n",
       "2023-09-08  178.3500  180.2390  177.7900  178.1800  65602066"
      ]
     },
     "execution_count": 10,
     "metadata": {},
     "output_type": "execute_result"
    }
   ],
   "source": [
    "# convert JSON to dataframe\n",
    "df = pd.DataFrame(data).T\n",
    "df.head()"
   ]
  },
  {
   "cell_type": "code",
   "execution_count": 11,
   "metadata": {},
   "outputs": [
    {
     "data": {
      "text/plain": [
       "Index(['open', 'high', 'low', 'close', 'volume'], dtype='object')"
      ]
     },
     "execution_count": 11,
     "metadata": {},
     "output_type": "execute_result"
    }
   ],
   "source": [
    "# clean column names\n",
    "cols = [x.split(' ')[-1] for x in df.columns]\n",
    "df.columns = cols\n",
    "df.columns"
   ]
  },
  {
   "cell_type": "code",
   "execution_count": 12,
   "metadata": {},
   "outputs": [
    {
     "data": {
      "text/html": [
       "<div>\n",
       "<style scoped>\n",
       "    .dataframe tbody tr th:only-of-type {\n",
       "        vertical-align: middle;\n",
       "    }\n",
       "\n",
       "    .dataframe tbody tr th {\n",
       "        vertical-align: top;\n",
       "    }\n",
       "\n",
       "    .dataframe thead th {\n",
       "        text-align: right;\n",
       "    }\n",
       "</style>\n",
       "<table border=\"1\" class=\"dataframe\">\n",
       "  <thead>\n",
       "    <tr style=\"text-align: right;\">\n",
       "      <th></th>\n",
       "      <th>open</th>\n",
       "      <th>high</th>\n",
       "      <th>low</th>\n",
       "      <th>close</th>\n",
       "      <th>volume</th>\n",
       "    </tr>\n",
       "  </thead>\n",
       "  <tbody>\n",
       "    <tr>\n",
       "      <th>2023-09-14</th>\n",
       "      <td>173.97</td>\n",
       "      <td>176.100</td>\n",
       "      <td>173.58</td>\n",
       "      <td>175.74</td>\n",
       "      <td>59639771</td>\n",
       "    </tr>\n",
       "    <tr>\n",
       "      <th>2023-09-13</th>\n",
       "      <td>176.51</td>\n",
       "      <td>177.300</td>\n",
       "      <td>173.98</td>\n",
       "      <td>174.21</td>\n",
       "      <td>84267928</td>\n",
       "    </tr>\n",
       "    <tr>\n",
       "      <th>2023-09-12</th>\n",
       "      <td>179.49</td>\n",
       "      <td>180.130</td>\n",
       "      <td>174.82</td>\n",
       "      <td>176.30</td>\n",
       "      <td>90370192</td>\n",
       "    </tr>\n",
       "    <tr>\n",
       "      <th>2023-09-11</th>\n",
       "      <td>180.07</td>\n",
       "      <td>180.300</td>\n",
       "      <td>177.34</td>\n",
       "      <td>179.36</td>\n",
       "      <td>58953052</td>\n",
       "    </tr>\n",
       "    <tr>\n",
       "      <th>2023-09-08</th>\n",
       "      <td>178.35</td>\n",
       "      <td>180.239</td>\n",
       "      <td>177.79</td>\n",
       "      <td>178.18</td>\n",
       "      <td>65602066</td>\n",
       "    </tr>\n",
       "  </tbody>\n",
       "</table>\n",
       "</div>"
      ],
      "text/plain": [
       "              open     high     low   close    volume\n",
       "2023-09-14  173.97  176.100  173.58  175.74  59639771\n",
       "2023-09-13  176.51  177.300  173.98  174.21  84267928\n",
       "2023-09-12  179.49  180.130  174.82  176.30  90370192\n",
       "2023-09-11  180.07  180.300  177.34  179.36  58953052\n",
       "2023-09-08  178.35  180.239  177.79  178.18  65602066"
      ]
     },
     "execution_count": 12,
     "metadata": {},
     "output_type": "execute_result"
    }
   ],
   "source": [
    "# change data to type numeric\n",
    "for col in df.columns:\n",
    "    df[col] = pd.to_numeric(df[col])\n",
    "    \n",
    "df.head()"
   ]
  },
  {
   "cell_type": "code",
   "execution_count": 13,
   "metadata": {},
   "outputs": [
    {
     "data": {
      "text/html": [
       "<div>\n",
       "<style scoped>\n",
       "    .dataframe tbody tr th:only-of-type {\n",
       "        vertical-align: middle;\n",
       "    }\n",
       "\n",
       "    .dataframe tbody tr th {\n",
       "        vertical-align: top;\n",
       "    }\n",
       "\n",
       "    .dataframe thead th {\n",
       "        text-align: right;\n",
       "    }\n",
       "</style>\n",
       "<table border=\"1\" class=\"dataframe\">\n",
       "  <thead>\n",
       "    <tr style=\"text-align: right;\">\n",
       "      <th></th>\n",
       "      <th>obs_date</th>\n",
       "      <th>open</th>\n",
       "      <th>high</th>\n",
       "      <th>low</th>\n",
       "      <th>close</th>\n",
       "      <th>volume</th>\n",
       "    </tr>\n",
       "  </thead>\n",
       "  <tbody>\n",
       "    <tr>\n",
       "      <th>0</th>\n",
       "      <td>2023-09-14</td>\n",
       "      <td>173.97</td>\n",
       "      <td>176.100</td>\n",
       "      <td>173.58</td>\n",
       "      <td>175.74</td>\n",
       "      <td>59639771</td>\n",
       "    </tr>\n",
       "    <tr>\n",
       "      <th>1</th>\n",
       "      <td>2023-09-13</td>\n",
       "      <td>176.51</td>\n",
       "      <td>177.300</td>\n",
       "      <td>173.98</td>\n",
       "      <td>174.21</td>\n",
       "      <td>84267928</td>\n",
       "    </tr>\n",
       "    <tr>\n",
       "      <th>2</th>\n",
       "      <td>2023-09-12</td>\n",
       "      <td>179.49</td>\n",
       "      <td>180.130</td>\n",
       "      <td>174.82</td>\n",
       "      <td>176.30</td>\n",
       "      <td>90370192</td>\n",
       "    </tr>\n",
       "    <tr>\n",
       "      <th>3</th>\n",
       "      <td>2023-09-11</td>\n",
       "      <td>180.07</td>\n",
       "      <td>180.300</td>\n",
       "      <td>177.34</td>\n",
       "      <td>179.36</td>\n",
       "      <td>58953052</td>\n",
       "    </tr>\n",
       "    <tr>\n",
       "      <th>4</th>\n",
       "      <td>2023-09-08</td>\n",
       "      <td>178.35</td>\n",
       "      <td>180.239</td>\n",
       "      <td>177.79</td>\n",
       "      <td>178.18</td>\n",
       "      <td>65602066</td>\n",
       "    </tr>\n",
       "  </tbody>\n",
       "</table>\n",
       "</div>"
      ],
      "text/plain": [
       "    obs_date    open     high     low   close    volume\n",
       "0 2023-09-14  173.97  176.100  173.58  175.74  59639771\n",
       "1 2023-09-13  176.51  177.300  173.98  174.21  84267928\n",
       "2 2023-09-12  179.49  180.130  174.82  176.30  90370192\n",
       "3 2023-09-11  180.07  180.300  177.34  179.36  58953052\n",
       "4 2023-09-08  178.35  180.239  177.79  178.18  65602066"
      ]
     },
     "execution_count": 13,
     "metadata": {},
     "output_type": "execute_result"
    }
   ],
   "source": [
    "# make index with observation date into a new column with datetime format\n",
    "df = df.reset_index()\n",
    "df.columns = ['obs_date'] + list(df.columns[1:])\n",
    "df['obs_date'] = pd.to_datetime(df['obs_date'])\n",
    "df.head()"
   ]
  },
  {
   "cell_type": "code",
   "execution_count": 14,
   "metadata": {},
   "outputs": [
    {
     "data": {
      "text/plain": [
       "obs_date    datetime64[ns]\n",
       "open               float64\n",
       "high               float64\n",
       "low                float64\n",
       "close              float64\n",
       "volume               int64\n",
       "dtype: object"
      ]
     },
     "execution_count": 14,
     "metadata": {},
     "output_type": "execute_result"
    }
   ],
   "source": [
    "df.dtypes"
   ]
  },
  {
   "cell_type": "code",
   "execution_count": 15,
   "metadata": {},
   "outputs": [
    {
     "data": {
      "text/html": [
       "<div>\n",
       "<style scoped>\n",
       "    .dataframe tbody tr th:only-of-type {\n",
       "        vertical-align: middle;\n",
       "    }\n",
       "\n",
       "    .dataframe tbody tr th {\n",
       "        vertical-align: top;\n",
       "    }\n",
       "\n",
       "    .dataframe thead th {\n",
       "        text-align: right;\n",
       "    }\n",
       "</style>\n",
       "<table border=\"1\" class=\"dataframe\">\n",
       "  <thead>\n",
       "    <tr style=\"text-align: right;\">\n",
       "      <th></th>\n",
       "      <th>ticker</th>\n",
       "      <th>obs_date</th>\n",
       "      <th>open</th>\n",
       "      <th>high</th>\n",
       "      <th>low</th>\n",
       "      <th>close</th>\n",
       "      <th>volume</th>\n",
       "    </tr>\n",
       "  </thead>\n",
       "  <tbody>\n",
       "    <tr>\n",
       "      <th>0</th>\n",
       "      <td>AAPL</td>\n",
       "      <td>2023-09-14</td>\n",
       "      <td>173.97</td>\n",
       "      <td>176.100</td>\n",
       "      <td>173.58</td>\n",
       "      <td>175.74</td>\n",
       "      <td>59639771</td>\n",
       "    </tr>\n",
       "    <tr>\n",
       "      <th>1</th>\n",
       "      <td>AAPL</td>\n",
       "      <td>2023-09-13</td>\n",
       "      <td>176.51</td>\n",
       "      <td>177.300</td>\n",
       "      <td>173.98</td>\n",
       "      <td>174.21</td>\n",
       "      <td>84267928</td>\n",
       "    </tr>\n",
       "    <tr>\n",
       "      <th>2</th>\n",
       "      <td>AAPL</td>\n",
       "      <td>2023-09-12</td>\n",
       "      <td>179.49</td>\n",
       "      <td>180.130</td>\n",
       "      <td>174.82</td>\n",
       "      <td>176.30</td>\n",
       "      <td>90370192</td>\n",
       "    </tr>\n",
       "    <tr>\n",
       "      <th>3</th>\n",
       "      <td>AAPL</td>\n",
       "      <td>2023-09-11</td>\n",
       "      <td>180.07</td>\n",
       "      <td>180.300</td>\n",
       "      <td>177.34</td>\n",
       "      <td>179.36</td>\n",
       "      <td>58953052</td>\n",
       "    </tr>\n",
       "    <tr>\n",
       "      <th>4</th>\n",
       "      <td>AAPL</td>\n",
       "      <td>2023-09-08</td>\n",
       "      <td>178.35</td>\n",
       "      <td>180.239</td>\n",
       "      <td>177.79</td>\n",
       "      <td>178.18</td>\n",
       "      <td>65602066</td>\n",
       "    </tr>\n",
       "  </tbody>\n",
       "</table>\n",
       "</div>"
      ],
      "text/plain": [
       "  ticker   obs_date    open     high     low   close    volume\n",
       "0   AAPL 2023-09-14  173.97  176.100  173.58  175.74  59639771\n",
       "1   AAPL 2023-09-13  176.51  177.300  173.98  174.21  84267928\n",
       "2   AAPL 2023-09-12  179.49  180.130  174.82  176.30  90370192\n",
       "3   AAPL 2023-09-11  180.07  180.300  177.34  179.36  58953052\n",
       "4   AAPL 2023-09-08  178.35  180.239  177.79  178.18  65602066"
      ]
     },
     "execution_count": 15,
     "metadata": {},
     "output_type": "execute_result"
    }
   ],
   "source": [
    "# copy stock ticker into new column\n",
    "df = pd.concat([pd.DataFrame(data=[symbol]*len(df), columns=['ticker']), df], axis=1)\n",
    "df.head()"
   ]
  },
  {
   "cell_type": "code",
   "execution_count": 16,
   "metadata": {},
   "outputs": [],
   "source": [
    "# Establish connection to AWS environment\n",
    "aws_creds = config['awsaccount']\n",
    "\n",
    "os.environ[\"AWS_ACCESS_KEY_ID\"] = aws_creds['accesskey']\n",
    "os.environ[\"AWS_SECRET_ACCESS_KEY\"] = aws_creds['secretkey']\n",
    "os.environ[\"AWS_REGION\"] = \"us-east-1\"\n",
    "\n",
    "s3 = boto3.resource('s3')"
   ]
  },
  {
   "cell_type": "code",
   "execution_count": 17,
   "metadata": {},
   "outputs": [],
   "source": [
    "bucket = \"stocks-daily-ohlc\""
   ]
  },
  {
   "cell_type": "code",
   "execution_count": 18,
   "metadata": {},
   "outputs": [],
   "source": [
    "buffer = StringIO()\n",
    "df.to_csv(buffer, index = False)"
   ]
  },
  {
   "cell_type": "code",
   "execution_count": 19,
   "metadata": {},
   "outputs": [
    {
     "data": {
      "text/plain": [
       "{'ResponseMetadata': {'RequestId': '0GF6JV8T1HG4N4EE',\n",
       "  'HostId': '7ptKuKWV7Wmm29az+9raXGu6WV7YNoTrMtzzSIYBB+nI+dwpsmLqAzULRlJEQxU2PF+YVYYnTrM=',\n",
       "  'HTTPStatusCode': 200,\n",
       "  'HTTPHeaders': {'x-amz-id-2': '7ptKuKWV7Wmm29az+9raXGu6WV7YNoTrMtzzSIYBB+nI+dwpsmLqAzULRlJEQxU2PF+YVYYnTrM=',\n",
       "   'x-amz-request-id': '0GF6JV8T1HG4N4EE',\n",
       "   'date': 'Thu, 14 Sep 2023 20:34:33 GMT',\n",
       "   'x-amz-server-side-encryption': 'AES256',\n",
       "   'etag': '\"09bc7cb21266b175b453100a5dd6c038\"',\n",
       "   'server': 'AmazonS3',\n",
       "   'content-length': '0'},\n",
       "  'RetryAttempts': 0},\n",
       " 'ETag': '\"09bc7cb21266b175b453100a5dd6c038\"',\n",
       " 'ServerSideEncryption': 'AES256'}"
      ]
     },
     "execution_count": 19,
     "metadata": {},
     "output_type": "execute_result"
    }
   ],
   "source": [
    "s3.Object(bucket, symbol+'.csv').put(Body = buffer.getvalue())"
   ]
  }
 ],
 "metadata": {
  "kernelspec": {
   "display_name": "Python 3",
   "language": "python",
   "name": "python3"
  },
  "language_info": {
   "codemirror_mode": {
    "name": "ipython",
    "version": 3
   },
   "file_extension": ".py",
   "mimetype": "text/x-python",
   "name": "python",
   "nbconvert_exporter": "python",
   "pygments_lexer": "ipython3",
   "version": "3.8.5"
  }
 },
 "nbformat": 4,
 "nbformat_minor": 4
}
